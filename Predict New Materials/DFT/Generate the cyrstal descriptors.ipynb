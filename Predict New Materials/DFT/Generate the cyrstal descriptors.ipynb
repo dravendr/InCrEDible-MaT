{
 "cells": [
  {
   "cell_type": "code",
   "execution_count": null,
   "id": "df47353b",
   "metadata": {},
   "outputs": [],
   "source": [
    "import os\n",
    "import ase.io\n",
    "import re\n",
    "import pandas as pd\n",
    "import numpy as np\n",
    "from dscribe.descriptors import SOAP\n",
    "from dscribe.descriptors import MBTR,ACSF,CoulombMatrix,EwaldSumMatrix,SineMatrix \n",
    "import tensorflow as tf\n",
    "from tensorflow.keras.models import Model\n",
    "from numpy                 import array\n",
    "from sklearn               import metrics\n",
    "from sklearn.preprocessing import MinMaxScaler\n",
    "from keras.models          import Sequential\n",
    "from keras.layers          import *\n",
    "from sklearn               import metrics\n",
    "from tensorflow.keras import layers\n",
    "import keras\n",
    "from keras.layers import Conv1D, MaxPooling1D, Dense, Flatten,Conv2D, MaxPool2D,LSTM,Bidirectional\n",
    "from keras.models import Sequential\n",
    "from keras import Input\n",
    "from keras.layers          import *\n",
    "from keras.models import save_model,load_model\n",
    "import time\n",
    "#####decribe parameters#####\n",
    "rcut = 6\n",
    "#####decribe parameters#####\n",
    "sm = SineMatrix(\n",
    "    n_atoms_max=120,\n",
    "    permutation=\"sorted_l2\",\n",
    "    sparse=False,\n",
    "    flatten=False)\n",
    "ew=EwaldSumMatrix(\n",
    "    n_atoms_max=120,\n",
    "    permutation=\"none\",flatten=False,sparse=False)\n",
    "acsf=ACSF(species=['Eu','Sc','V','Cu','Ir','Pt','Au','O'],\n",
    "    rcut=rcut,\n",
    "    periodic=True,\n",
    "    g2_params=[[1, 1], [1, 2], [1, 3]],\n",
    "    g4_params=[[1, 1, 1], [1, 2, 1], [1, 1, -1], [1, 2, -1]])"
   ]
  },
  {
   "cell_type": "code",
   "execution_count": null,
   "id": "5bee9f81",
   "metadata": {},
   "outputs": [],
   "source": [
    "def find_energy(content):\n",
    "    number=re.findall('\\d+',content[-1])\n",
    "    splitted=content[-1].split()\n",
    "    energy=float(splitted[4])\n",
    "    return energy\n",
    "def read_energy(dir_list,describer1,describer2,describer3):\n",
    "    list_input=[]\n",
    "    list_energy_SLAB=[]\n",
    "    i=0\n",
    "    for dir_each in dir_list:\n",
    "        try:\n",
    "            time_start=time.time()\n",
    "            dir_each=path+dir_each\n",
    "            Read_Struct_SLAB=ase.io.read(dir_each+'/POSCAR_BACKUP_INIT')\n",
    "            des1=describer1.create(Read_Struct_SLAB,n_jobs=-1)\n",
    "            des2=describer2.create(Read_Struct_SLAB,n_jobs=-1)\n",
    "            des3=describer3.create(Read_Struct_SLAB,n_jobs=-1)\n",
    "            new_des=np.concatenate((des1,des2),axis=1)\n",
    "            new_des=np.concatenate((new_des,des3),axis=1)\n",
    "            print(new_des.shape)\n",
    "            new_des=new_des.reshape(240,208)\n",
    "            with open(dir_each+'/OSZICAR',\"r\") as SLAB:\n",
    "                content_SLAB=SLAB.read().splitlines()\n",
    "            #####################################\n",
    "            energy_SLAB=find_energy(content_SLAB)\n",
    "            if energy_SLAB<-700:\n",
    "                list_input.append(new_des)\n",
    "                list_energy_SLAB.append(energy_SLAB)\n",
    "            else:\n",
    "                print(dir_each)\n",
    "                pass\n",
    "            i+=1\n",
    "            time_finish=time.time()\n",
    "            print(i)\n",
    "            print('time cost',time_finish-time_start,'s')\n",
    "        except Exception as e:\n",
    "            print('folder not exist')\n",
    "            print(e)\n",
    "    return list_input,list_energy_SLAB"
   ]
  },
  {
   "cell_type": "code",
   "execution_count": null,
   "id": "3adef71f",
   "metadata": {
    "scrolled": true
   },
   "outputs": [],
   "source": [
    "#####computed on cluster#####\n",
    "path=\"./result_DFT_HEO_Neutral/\"\n",
    "############################\n",
    "dir_list=os.listdir(path)\n",
    "list_input,list_energy_SLAB=read_energy(dir_list,sm,ew,acsf)"
   ]
  },
  {
   "cell_type": "code",
   "execution_count": null,
   "id": "813fad1f",
   "metadata": {},
   "outputs": [],
   "source": [
    "######specify the input and output######\n",
    "data_input=np.around(list_input,decimals=8)\n",
    "data_output_SLAB=np.around(list_energy_SLAB,decimals=8)"
   ]
  },
  {
   "cell_type": "code",
   "execution_count": null,
   "id": "1e4b9773",
   "metadata": {},
   "outputs": [],
   "source": [
    "from numpy import save\n",
    "np.save('data_input_sm_ew_acsf_rcu6.npy',data_input)\n",
    "np.save('data_output_sm_ew_acsf_rcu6_SLAB.npy',data_output_SLAB)"
   ]
  },
  {
   "cell_type": "code",
   "execution_count": null,
   "id": "f8fb7d5c",
   "metadata": {},
   "outputs": [],
   "source": []
  }
 ],
 "metadata": {
  "kernelspec": {
   "display_name": "Python 3 (ipykernel)",
   "language": "python",
   "name": "python3"
  },
  "language_info": {
   "codemirror_mode": {
    "name": "ipython",
    "version": 3
   },
   "file_extension": ".py",
   "mimetype": "text/x-python",
   "name": "python",
   "nbconvert_exporter": "python",
   "pygments_lexer": "ipython3",
   "version": "3.9.12"
  }
 },
 "nbformat": 4,
 "nbformat_minor": 5
}
