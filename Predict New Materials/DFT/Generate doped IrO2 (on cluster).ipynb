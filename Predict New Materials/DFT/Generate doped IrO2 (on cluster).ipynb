{
 "cells": [
  {
   "cell_type": "code",
   "execution_count": null,
   "id": "ec79646a",
   "metadata": {},
   "outputs": [],
   "source": [
    "from pymatgen.core import Structure, Lattice\n",
    "from pymatgen.core import Molecule\n",
    "from pymatgen.analysis.adsorption import *\n",
    "from pymatgen.core.surface import generate_all_slabs\n",
    "from pymatgen.symmetry.analyzer import SpacegroupAnalyzer\n",
    "from pymatgen.ext.matproj import MPRester\n",
    "from pymatgen.io.vasp.inputs import Poscar\n",
    "from pymatgen.io.vasp.inputs import Kpoints\n",
    "from pymatgen.io.vasp.inputs import Incar\n",
    "from pymatgen.io.vasp.inputs import Potcar\n",
    "from pymatgen.io.vasp.inputs import PotcarSingle\n",
    "from pymatgen.io.vasp.sets import MPRelaxSet\n",
    "from pymatgen.ext.matproj import MPRester\n",
    "my_key='BJU2qDd4gpCPO0rf'\n",
    "m= MPRester(my_key)\n",
    "import random"
   ]
  },
  {
   "cell_type": "code",
   "execution_count": null,
   "id": "65766fd9",
   "metadata": {},
   "outputs": [],
   "source": [
    "slab_basic=Structure.from_file('IrO2_110_init.cif')"
   ]
  },
  {
   "cell_type": "code",
   "execution_count": null,
   "id": "0c1a424c",
   "metadata": {},
   "outputs": [],
   "source": [
    "def substitue_slab(ele_list,sub_list,slab):\n",
    "    slab_copied=slab.copy()\n",
    "    for i in range(0,len(ele_list)):\n",
    "        ele_each=ele_list[i]\n",
    "        sub_each=sub_list[i]\n",
    "        slab_copied[sub_each]=ele_each\n",
    "    return slab_copied"
   ]
  },
  {
   "cell_type": "code",
   "execution_count": null,
   "id": "ea5f1cb0",
   "metadata": {},
   "outputs": [],
   "source": [
    "def mkdir(path): \n",
    "    folder = os.path.exists(path) \n",
    "    if not folder:\n",
    "        os.makedirs(path)\n",
    "        print (\"---  new folder...  ---\")\n",
    "        print (\"---  OK  ---\") \n",
    "    else:\n",
    "        print (\"---  There is this folder!  ---\")"
   ]
  },
  {
   "cell_type": "code",
   "execution_count": null,
   "id": "c28adbe3",
   "metadata": {},
   "outputs": [],
   "source": [
    "ele_list=['Eu','Sc','V','Cu','Au','Pt']\n",
    "for i in range(1,1000):\n",
    "    random.seed(i)\n",
    "    replaced_serial_list=random.sample(range(0,40),6)\n",
    "    replaced_slab=substitue_slab(ele_list,replaced_serial_list,slab_basic)\n",
    "    path='./the_'+str(i)+'_th_structure/'\n",
    "    mkdir('the_'+str(i)+'_th_structure')\n",
    "    try:\n",
    "        open(path+'POSCAR','w').write(str(Poscar(replaced_slab,sort_structure=True)))\n",
    "    except:\n",
    "        print('do not exist')\n",
    "    mpr=MPRelaxSet(replaced_slab)\n",
    "    mpr.write_input(output_dir=path)"
   ]
  }
 ],
 "metadata": {
  "kernelspec": {
   "display_name": "Python 3 (ipykernel)",
   "language": "python",
   "name": "python3"
  },
  "language_info": {
   "codemirror_mode": {
    "name": "ipython",
    "version": 3
   },
   "file_extension": ".py",
   "mimetype": "text/x-python",
   "name": "python",
   "nbconvert_exporter": "python",
   "pygments_lexer": "ipython3",
   "version": "3.9.12"
  }
 },
 "nbformat": 4,
 "nbformat_minor": 5
}
