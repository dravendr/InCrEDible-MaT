{
 "cells": [
  {
   "cell_type": "code",
   "execution_count": null,
   "id": "88b9a1eb",
   "metadata": {},
   "outputs": [],
   "source": [
    "from sko.GA import GA\n",
    "import keras\n",
    "import numpy as np\n",
    "import pandas as pd\n",
    "from sko.tools import set_run_mode\n",
    "import datetime"
   ]
  },
  {
   "cell_type": "code",
   "execution_count": null,
   "id": "69d8698e",
   "metadata": {},
   "outputs": [],
   "source": [
    "loaded_model=keras.models.load_model('Neutral_OER_transAL.h5')"
   ]
  },
  {
   "cell_type": "code",
   "execution_count": null,
   "id": "13a7ab97",
   "metadata": {},
   "outputs": [],
   "source": [
    "from sklearn.preprocessing import *\n",
    "from sklearn.model_selection import train_test_split\n",
    "Minmaxsc  = MinMaxScaler(feature_range=(0, 1))\n",
    "Minmaxsc2  = MinMaxScaler(feature_range=(0, 1))\n",
    "Stdsc  = StandardScaler()\n",
    "Stdsc2  = StandardScaler()\n",
    "MAsc  = MaxAbsScaler()\n",
    "MAsc2  = MaxAbsScaler()\n",
    "Rsc  = RobustScaler()\n",
    "Rsc2  = RobustScaler()"
   ]
  },
  {
   "cell_type": "code",
   "execution_count": null,
   "id": "5b03c42e",
   "metadata": {},
   "outputs": [],
   "source": [
    "database=pd.read_csv('processed_database.csv')\n",
    "data_output_full=database.iloc[:,1]\n",
    "data_input_full=database.iloc[:,2:]\n",
    "data_input_full_ANN=Stdsc.fit_transform(data_input_full)\n",
    "data_output_full_ANN=Stdsc2.fit_transform(np.array(data_output_full).reshape(-1,1))"
   ]
  },
  {
   "cell_type": "code",
   "execution_count": null,
   "id": "b7e18c82",
   "metadata": {},
   "outputs": [],
   "source": [
    "element_information={}\n",
    "element_information['None']=[0,0,0,0,0,0,0,0]\n",
    "element_information['O']=[16,8,2,16,13.56,3.44,0,48]\n",
    "\n",
    "element_information['V']=[50.942, 23, 4, 5, 6.76, 1.63, 3, 134]\n",
    "element_information['Cr']=[51.996, 24, 4, 6, 6.74, 1.66, 4, 130]\n",
    "element_information['Mn']=[54.938, 25, 4, 7, 7.4, 1.56, 5, 127]\n",
    "element_information['Fe']=[55.845, 26, 4, 8, 7.83, 1.83, 6, 126]\n",
    "element_information['Co']=[58.933, 27, 4, 9, 7.81, 1.88, 7, 125]\n",
    "element_information['Ni']=[58.6934, 28, 4, 10, 7.61, 1.91, 8, 124]\n",
    "element_information['Cu']=[63.546, 29, 4, 11, 7.69, 1.9, 10, 128]\n",
    "element_information['Zn']=[65.38, 30, 4, 12, 9.35, 1.65, 10, 138]\n",
    "\n",
    "element_information['Nb']=[92.906, 41, 5, 5, 6.76, 1.6, 4, 146]\n",
    "element_information['Mo']=[95.94, 42, 5, 6, 7.35, 2.16, 5, 139]\n",
    "element_information['Tc']=[98.906, 43, 5, 7, 7.28, 1.9, 5, 136]\n",
    "element_information['Ru']=[101.07, 44, 5, 8, 7.5, 2.2, 7, 134]\n",
    "element_information['Rh']=[102.905, 45, 5, 9, 7.7, 2.28, 8, 134]\n",
    "element_information['Pd']=[106.42, 46, 5, 10, 8.3, 2.2, 10, 137]\n",
    "element_information['Ag']=[107.868, 47, 5, 11, 7.54, 1.93, 10, 144]\n",
    "\n",
    "element_information['Ta']=[180.947,73, 6, 5, 7.89, 1.5, 3, 149]\n",
    "element_information['W']=[183.84, 74, 6, 6, 7.98, 2.36, 4, 141]\n",
    "element_information['Re']=[186.207, 75, 6, 7, 7.88, 1.9, 5, 137]\n",
    "element_information['Os']=[190.23, 76, 6, 8, 8.7, 2.2, 6, 135]\n",
    "element_information['Ir']=[192.217, 77, 6, 9, 9.1, 2.2, 7, 136]\n",
    "element_information['Pt']=[195.084, 78, 6, 10, 8.9, 2.28, 9, 139]\n",
    "element_information['Au']=[196.966, 79, 6, 11, 9.19, 2.54, 10, 144]\n",
    "###added\n",
    "\n",
    "element_information['C']=[12.0107, 6, 2, 14, 11.22, 2.56, 0, 77]\n",
    "element_information['B']=[10.811, 5, 2, 13, 8.33, 2.04, 0, 98]\n",
    "element_information['N']=[14.0067, 7, 2, 15, 14.48, 3.04, 0, 92]\n",
    "element_information['P']=[30.9737, 15, 3, 15, 10.3, 2.19, 0, 128]\n",
    "element_information['S']=[32.065, 16, 3, 16, 10.31, 2.58, 0, 127]\n",
    "element_information['Se']=[78.96, 34, 4, 16, 9.5, 2.55, 10, 140]"
   ]
  },
  {
   "cell_type": "code",
   "execution_count": null,
   "id": "329e7939",
   "metadata": {},
   "outputs": [],
   "source": [
    "element_list=list(element_information.keys())\n",
    "print(len(element_list))"
   ]
  },
  {
   "cell_type": "code",
   "execution_count": null,
   "id": "a95a5261",
   "metadata": {},
   "outputs": [],
   "source": [
    "def predict_func_OVP(p):\n",
    "    ele_1,ele_2,ele_3,ele_4,ele_5,mater_prop_1,mater_prop_2,mater_prop_3,mater_prop_4,mater_prop_5,mater_prop_6,mater_prop_7,mater_prop_8,mater_prop_9,mater_prop_10,mater_prop_11,mater_prop_12,mater_prop_13,mater_prop_14,mater_prop_15,mater_prop_16,mater_prop_17,mater_prop_18,mater_prop_19,mater_prop_20,mater_prop_21,mater_prop_22,mater_prop_23,mater_prop_24,mater_prop_25,mater_prop_26,mater_prop_27,mater_prop_28,mater_prop_29,mater_prop_30,mater_prop_31,mater_prop_32,mater_prop_33,mater_prop_34,mater_prop_35,mater_prop_36,mater_prop_37,mater_prop_38,mater_prop_39,mater_prop_40,mater_prop_41,mater_prop_42,mater_prop_43,mater_prop_44,mater_prop_45,mater_prop_46,mater_prop_47,mater_prop_48,mater_prop_49,mater_prop_50=p\n",
    "    #####\n",
    "    ele_info=element_information[element_list[int(ele_1)]]+element_information[element_list[int(ele_2)]]+element_information[element_list[int(ele_3)]]+element_information[element_list[int(ele_4)]]+element_information[element_list[int(ele_5)]]+element_information[element_list[0]]+element_information[element_list[0]]+element_information[element_list[0]]\n",
    "    mater_prop_info=[mater_prop_1,mater_prop_2,mater_prop_3,mater_prop_4,mater_prop_5,mater_prop_6,mater_prop_7,mater_prop_8,mater_prop_9,mater_prop_10,mater_prop_11,mater_prop_12,mater_prop_13,mater_prop_14,mater_prop_15,mater_prop_16,mater_prop_17,mater_prop_18,mater_prop_19,mater_prop_20,mater_prop_21,mater_prop_22,mater_prop_23,mater_prop_24,mater_prop_25,mater_prop_26,mater_prop_27,mater_prop_28,mater_prop_29,mater_prop_30,mater_prop_31,mater_prop_32,mater_prop_33,mater_prop_34,mater_prop_35,mater_prop_36,mater_prop_37,mater_prop_38,mater_prop_39,mater_prop_40,mater_prop_41,mater_prop_42,mater_prop_43,mater_prop_44,mater_prop_45,mater_prop_46,mater_prop_47,mater_prop_48,mater_prop_49,mater_prop_50]\n",
    "    ###合并制备条件\n",
    "    info_all=ele_info+mater_prop_info\n",
    "    input_array=np.array(info_all)\n",
    "    input_array=input_array.reshape(1, -1)\n",
    "    input_array=pd.DataFrame(input_array,columns=data_input_full.columns)\n",
    "    #####预测\n",
    "    prediction=loaded_model.predict(input_array)[0]\n",
    "#     print(prediction)\n",
    "    return prediction[0]"
   ]
  },
  {
   "cell_type": "code",
   "execution_count": null,
   "id": "59028816",
   "metadata": {},
   "outputs": [],
   "source": [
    "def uneq_element_1(x):\n",
    "    return ((x[1]!=x[0] and x[1]!=x[2] and x[1]!=x[3] and x[1]!=x[4] and x[1]!=x[5] and x[1]!=x[6] and x[1]!=x[7]) or (x[1]==0 and x[2]==0 and x[3]==0 and x[4]==0))-1\n",
    "def uneq_element_2(x):\n",
    "    return ((x[2]!=x[0] and x[2]!=x[1] and x[2]!=x[3] and x[2]!=x[4] and x[2]!=x[5] and x[2]!=x[6] and x[2]!=x[7]) or (x[2]==0 and x[3]==0 and x[4]==0))-1\n",
    "def uneq_element_3(x):\n",
    "    return ((x[3]!=x[0] and x[3]!=x[1] and x[3]!=x[2] and x[3]!=x[4] and x[3]!=x[5] and x[3]!=x[6] and x[3]!=x[7]) or (x[3]==0 and x[4]==0))-1\n",
    "def uneq_element_4(x):\n",
    "    return ((x[4]!=x[0] and x[4]!=x[1] and x[4]!=x[3] and x[4]!=x[2] and x[4]!=x[5] and x[4]!=x[6] and x[4]!=x[7]) or (x[4]==0))-1\n",
    "\n",
    "constraint_eq = [\n",
    "\n",
    "    uneq_element_1,\n",
    "    uneq_element_2,\n",
    "    uneq_element_3,\n",
    "    uneq_element_4\n",
    "    \n",
    "    ]\n",
    "\n",
    "constraint_ueq = [\n",
    "    lambda x: x[5]+x[6]+x[7]+x[8]+x[9]+x[10]+x[11]+x[12]+x[13]+x[14]+x[15]+x[16]+x[17]+x[18]+x[19]+x[20]+x[21]+x[22]+x[23]+x[24]+x[25]+x[26]+x[27]+x[28]+x[29]+x[30]+x[31]+x[32]+x[33]+x[34]+x[35]+x[36]+x[37]+x[38]+x[39]+x[40]+x[41]+x[42]+x[43]+x[44]+x[45]+x[46]+x[47]+x[48]+x[49]+x[50]+x[51]+x[52]+x[53]+x[54]-4.9\n",
    "    ]\n",
    "\n",
    "\n",
    "\n",
    "def generate_costly_function(task_type='io_costly'):\n",
    "    # generate a high cost function to test all the modes\n",
    "    # cost_type can be 'io_costly' or 'cpu_costly'\n",
    "    if task_type == 'io_costly':\n",
    "        def costly_function():\n",
    "            time.sleep(0.1)\n",
    "            return 1\n",
    "    else:\n",
    "        def costly_function():\n",
    "            n = 10000\n",
    "            step1 = [np.log(i + 1) for i in range(n)]\n",
    "            step2 = [np.power(i, 1.1) for i in range(n)]\n",
    "            step3 = sum(step1) + sum(step2)\n",
    "            return step3\n",
    "\n",
    "    return costly_function\n",
    "from numpy import *"
   ]
  },
  {
   "cell_type": "code",
   "execution_count": null,
   "id": "71f140fd",
   "metadata": {
    "scrolled": true
   },
   "outputs": [],
   "source": [
    "task_type='cpu_costly'\n",
    "costly_function = generate_costly_function(task_type=task_type)\n",
    "# to use the vectorization mode, the function itself should support the mode.\n",
    "mode = 'common'\n",
    "# mode ='vectorization'\n",
    "set_run_mode(predict_func_OVP, mode)\n",
    "ga = GA(func=predict_func_OVP, n_dim=55, size_pop=10000, max_iter=50,prob_mut=0.01,\n",
    "        lb=[1,1,0,0,0,0,0,0,0,0,0,0,0,0,0,0,0,0,0,0,0,0,0,0,0,0,0,0,0,0,0,0,0,0,0,0,0,0,0,0,0,0,0,0,0,0,0,0,0,0,0,0,0,0,0], \n",
    "        ub=[29,29,29,29,29,1,1,1,1,1,1,1,1,1,1,1,1,1,1,1,1,1,1,1,1,1,1,1,1,1,1,1,1,1,1,1,1,1,1,1,1,1,1,1,1,1,1,1,1,1,1,1,1,1,1],\n",
    "        constraint_eq=constraint_eq, constraint_ueq=constraint_ueq,precision=[1,1,1,1,1,1,1,1,1,1,1,1,1,1,1,1,1,1,1,1,1,1,1,1,1,1,1,1,1,1,1,1,1,1,1,1,1,1,1,1,1,1,1,1,1,1,1,1,1,1,1,1,1,1,1])\n",
    "start_time = datetime.datetime.now()\n",
    "best_x, best_y = ga.run()\n",
    "print('best_x:', best_x, '\\n', 'best_y:', best_y)\n",
    "print('on {task_type} task,use {mode} mode, costs {time_costs}s'\n",
    "      .format(task_type=task_type, mode=mode,\n",
    "              time_costs=(datetime.datetime.now() - start_time).total_seconds()))"
   ]
  },
  {
   "cell_type": "code",
   "execution_count": null,
   "id": "5983313a",
   "metadata": {},
   "outputs": [],
   "source": []
  }
 ],
 "metadata": {
  "kernelspec": {
   "display_name": "Python 3 (ipykernel)",
   "language": "python",
   "name": "python3"
  },
  "language_info": {
   "codemirror_mode": {
    "name": "ipython",
    "version": 3
   },
   "file_extension": ".py",
   "mimetype": "text/x-python",
   "name": "python",
   "nbconvert_exporter": "python",
   "pygments_lexer": "ipython3",
   "version": "3.9.12"
  }
 },
 "nbformat": 4,
 "nbformat_minor": 5
}
