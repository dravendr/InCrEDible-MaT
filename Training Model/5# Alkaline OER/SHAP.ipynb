{
 "cells": [
  {
   "cell_type": "markdown",
   "id": "97f10fbc",
   "metadata": {},
   "source": [
    "# SHAP Interpretation"
   ]
  },
  {
   "cell_type": "code",
   "execution_count": null,
   "id": "266aaadd",
   "metadata": {},
   "outputs": [],
   "source": [
    "import shap\n",
    "import pandas as pd\n",
    "import keras\n",
    "from sklearn.preprocessing import *\n",
    "import numpy as np\n",
    "Minmaxsc  = MinMaxScaler(feature_range=(0, 1))\n",
    "Minmaxsc2  = MinMaxScaler(feature_range=(0, 1))\n",
    "Stdsc  = StandardScaler()\n",
    "Stdsc2  = StandardScaler()\n",
    "MAsc  = MaxAbsScaler()\n",
    "MAsc2  = MaxAbsScaler()\n",
    "Rsc  = RobustScaler()\n",
    "Rsc2  = RobustScaler()"
   ]
  },
  {
   "cell_type": "code",
   "execution_count": null,
   "id": "6183c9e8",
   "metadata": {},
   "outputs": [],
   "source": [
    "database=pd.read_csv('processed_database.csv')\n",
    "data_output_full=database.iloc[:,1]\n",
    "data_input_full=database.iloc[:,2:]\n",
    "data_input_full_ANN=Stdsc.fit_transform(data_input_full)\n",
    "data_output_full_ANN=Stdsc2.fit_transform(np.array(data_output_full).reshape(-1,1))"
   ]
  },
  {
   "cell_type": "code",
   "execution_count": null,
   "id": "eac4bc17",
   "metadata": {},
   "outputs": [],
   "source": [
    "data_input_full_ANN_for_shap=pd.DataFrame(data_input_full_ANN,columns=data_input_full.columns)"
   ]
  },
  {
   "cell_type": "code",
   "execution_count": null,
   "id": "a863ea20",
   "metadata": {},
   "outputs": [],
   "source": [
    "model=keras.models.load_model(\"Alkaline_OER.h5\")"
   ]
  },
  {
   "cell_type": "code",
   "execution_count": null,
   "id": "d5f9780f",
   "metadata": {},
   "outputs": [],
   "source": [
    "# compute SHAP values\n",
    "explainer = shap.Explainer(model, data_input_full_ANN)\n",
    "shap_values = explainer(data_input_full_ANN_for_shap)"
   ]
  },
  {
   "cell_type": "code",
   "execution_count": null,
   "id": "d826986e",
   "metadata": {},
   "outputs": [],
   "source": [
    "shap.summary_plot(shap_values[:,64:],feature_names=list(data_input_full.columns)[64:],max_display=13,alpha=0.5,plot_size=[6,6])"
   ]
  },
  {
   "cell_type": "code",
   "execution_count": null,
   "id": "f2b442b3",
   "metadata": {},
   "outputs": [],
   "source": [
    "shap.summary_plot(shap_values[:,64:],feature_names=list(data_input_full.columns)[64:],max_display=100,alpha=0.5)"
   ]
  },
  {
   "cell_type": "code",
   "execution_count": null,
   "id": "0012d7b1",
   "metadata": {},
   "outputs": [],
   "source": [
    "# shap.summary_plot(shap_values[:,64:],feature_names=list(data_input_full.columns)[64:],max_display=15,alpha=0.5)\n",
    "shap.plots.heatmap(shap_values[:,64:],max_display=14,plot_width=20)"
   ]
  },
  {
   "cell_type": "code",
   "execution_count": null,
   "id": "46ca5fd3",
   "metadata": {},
   "outputs": [],
   "source": [
    "shap.dependence_plot('Judge_3D',shap_values.values,data_input_full,interaction_index='Judge_Hydroxide_Oxyhydroxide',alpha=0.5)"
   ]
  },
  {
   "cell_type": "code",
   "execution_count": null,
   "id": "89fab706",
   "metadata": {},
   "outputs": [],
   "source": [
    "shap.dependence_plot('Judge_Hydroxide_Oxyhydroxide',shap_values.values,data_input_full,interaction_index='Judge_heterostructures',alpha=0.5)"
   ]
  },
  {
   "cell_type": "code",
   "execution_count": null,
   "id": "b74b3100",
   "metadata": {},
   "outputs": [],
   "source": [
    "shap.dependence_plot('Judge_3D',shap_values.values,data_input_full,interaction_index='Judge_heterostructures',alpha=0.5)"
   ]
  },
  {
   "cell_type": "code",
   "execution_count": null,
   "id": "4a17dfa9",
   "metadata": {},
   "outputs": [],
   "source": []
  }
 ],
 "metadata": {
  "kernelspec": {
   "display_name": "Python 3 (ipykernel)",
   "language": "python",
   "name": "python3"
  },
  "language_info": {
   "codemirror_mode": {
    "name": "ipython",
    "version": 3
   },
   "file_extension": ".py",
   "mimetype": "text/x-python",
   "name": "python",
   "nbconvert_exporter": "python",
   "pygments_lexer": "ipython3",
   "version": "3.9.12"
  }
 },
 "nbformat": 4,
 "nbformat_minor": 5
}
