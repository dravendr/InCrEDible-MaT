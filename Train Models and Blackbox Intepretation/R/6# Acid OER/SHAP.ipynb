{
 "cells": [
  {
   "cell_type": "markdown",
   "id": "97f10fbc",
   "metadata": {},
   "source": [
    "# SHAP Interpretation"
   ]
  },
  {
   "cell_type": "code",
   "execution_count": null,
   "id": "266aaadd",
   "metadata": {},
   "outputs": [],
   "source": [
    "import shap\n",
    "import pandas as pd\n",
    "import keras\n",
    "from sklearn.preprocessing import *\n",
    "import numpy as np\n",
    "import matplotlib.pyplot as plt\n",
    "Minmaxsc  = MinMaxScaler(feature_range=(0, 1))\n",
    "Minmaxsc2  = MinMaxScaler(feature_range=(0, 1))\n",
    "Stdsc  = StandardScaler()\n",
    "Stdsc2  = StandardScaler()\n",
    "MAsc  = MaxAbsScaler()\n",
    "MAsc2  = MaxAbsScaler()\n",
    "Rsc  = RobustScaler()\n",
    "Rsc2  = RobustScaler()"
   ]
  },
  {
   "cell_type": "code",
   "execution_count": null,
   "id": "6183c9e8",
   "metadata": {},
   "outputs": [],
   "source": [
    "database=pd.read_csv('processed_database.csv')\n",
    "data_output_full=database.iloc[:,1]\n",
    "data_input_full=database.iloc[:,2:]\n",
    "data_input_full_ANN=Stdsc.fit_transform(data_input_full)\n",
    "data_output_full_ANN=Stdsc2.fit_transform(np.array(data_output_full).reshape(-1,1))"
   ]
  },
  {
   "cell_type": "code",
   "execution_count": null,
   "id": "eac4bc17",
   "metadata": {},
   "outputs": [],
   "source": [
    "data_input_full_ANN_for_shap=pd.DataFrame(data_input_full_ANN,columns=data_input_full.columns)"
   ]
  },
  {
   "cell_type": "code",
   "execution_count": null,
   "id": "a863ea20",
   "metadata": {},
   "outputs": [],
   "source": [
    "model=keras.models.load_model(\"Acid_OER.h5\")"
   ]
  },
  {
   "cell_type": "code",
   "execution_count": null,
   "id": "d5f9780f",
   "metadata": {},
   "outputs": [],
   "source": [
    "# compute SHAP values\n",
    "explainer = shap.Explainer(model, data_input_full_ANN)\n",
    "shap_values = explainer(data_input_full_ANN_for_shap)"
   ]
  },
  {
   "cell_type": "code",
   "execution_count": null,
   "id": "d826986e",
   "metadata": {},
   "outputs": [],
   "source": [
    "shap.summary_plot(shap_values[:,64:],feature_names=list(data_input_full.columns)[64:],max_display=13,alpha=0.5,plot_size=[6,6])"
   ]
  },
  {
   "cell_type": "code",
   "execution_count": null,
   "id": "33ed9828",
   "metadata": {},
   "outputs": [],
   "source": [
    "shap.summary_plot(shap_values[:,64:],feature_names=list(data_input_full.columns)[64:],max_display=100,alpha=0.5)"
   ]
  },
  {
   "cell_type": "code",
   "execution_count": null,
   "id": "0012d7b1",
   "metadata": {},
   "outputs": [],
   "source": [
    "# shap.summary_plot(shap_values[:,64:],feature_names=list(data_input_full.columns)[64:],max_display=15,alpha=0.5)\n",
    "shap.plots.heatmap(shap_values[:,64:],max_display=14,plot_width=20)"
   ]
  },
  {
   "cell_type": "code",
   "execution_count": null,
   "id": "46ca5fd3",
   "metadata": {},
   "outputs": [],
   "source": [
    "shap.dependence_plot('Judge_1D',shap_values.values,data_input_full,interaction_index='Judge_Hollow',alpha=0.5)"
   ]
  },
  {
   "cell_type": "code",
   "execution_count": null,
   "id": "89fab706",
   "metadata": {},
   "outputs": [],
   "source": [
    "shap.dependence_plot('Judge_1D',shap_values.values,data_input_full,interaction_index='Judge_Nanoparticles',alpha=0.5)"
   ]
  },
  {
   "cell_type": "code",
   "execution_count": null,
   "id": "70483032",
   "metadata": {},
   "outputs": [],
   "source": [
    "shap.dependence_plot('Judge_1D',shap_values.values,data_input_full,interaction_index='Judge_alloy',alpha=0.5)"
   ]
  },
  {
   "cell_type": "code",
   "execution_count": null,
   "id": "b019af31",
   "metadata": {},
   "outputs": [],
   "source": [
    "shap.dependence_plot('Judge_1D',shap_values.values,data_input_full,interaction_index='Judge_Amorphous',alpha=0.5)"
   ]
  },
  {
   "cell_type": "code",
   "execution_count": null,
   "id": "5ad8f8fa",
   "metadata": {},
   "outputs": [],
   "source": [
    "shap.dependence_plot('Judge_Hollow',shap_values.values,data_input_full,interaction_index='Judge_Nanoparticles',alpha=0.5)"
   ]
  },
  {
   "cell_type": "code",
   "execution_count": null,
   "id": "6b6369b6",
   "metadata": {},
   "outputs": [],
   "source": [
    "shap.dependence_plot('Judge_Hollow',shap_values.values,data_input_full,interaction_index='Judge_alloy',alpha=0.5)"
   ]
  },
  {
   "cell_type": "code",
   "execution_count": null,
   "id": "255fc857",
   "metadata": {},
   "outputs": [],
   "source": [
    "shap.dependence_plot('Judge_Hollow',shap_values.values,data_input_full,interaction_index='Judge_Amorphous',alpha=0.5)"
   ]
  },
  {
   "cell_type": "code",
   "execution_count": null,
   "id": "5c9fe4de",
   "metadata": {},
   "outputs": [],
   "source": [
    "shap.dependence_plot('Judge_Nanoparticles',shap_values.values,data_input_full,interaction_index='Judge_alloy',alpha=0.5)"
   ]
  },
  {
   "cell_type": "code",
   "execution_count": null,
   "id": "adb910f6",
   "metadata": {},
   "outputs": [],
   "source": [
    "shap.dependence_plot('Judge_Nanoparticles',shap_values.values,data_input_full,interaction_index='Judge_Amorphous',alpha=0.5)"
   ]
  },
  {
   "cell_type": "code",
   "execution_count": null,
   "id": "2183cbd5",
   "metadata": {},
   "outputs": [],
   "source": [
    "shap.dependence_plot('Judge_alloy',shap_values.values,data_input_full,interaction_index='Judge_Amorphous',alpha=0.5)"
   ]
  },
  {
   "cell_type": "code",
   "execution_count": null,
   "id": "b21d4e21",
   "metadata": {},
   "outputs": [],
   "source": []
  }
 ],
 "metadata": {
  "kernelspec": {
   "display_name": "Python 3 (ipykernel)",
   "language": "python",
   "name": "python3"
  },
  "language_info": {
   "codemirror_mode": {
    "name": "ipython",
    "version": 3
   },
   "file_extension": ".py",
   "mimetype": "text/x-python",
   "name": "python",
   "nbconvert_exporter": "python",
   "pygments_lexer": "ipython3",
   "version": "3.9.7"
  }
 },
 "nbformat": 4,
 "nbformat_minor": 5
}
