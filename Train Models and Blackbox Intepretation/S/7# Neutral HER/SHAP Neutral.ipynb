{
 "cells": [
  {
   "cell_type": "markdown",
   "id": "97f10fbc",
   "metadata": {},
   "source": [
    "# SHAP Interpretation"
   ]
  },
  {
   "cell_type": "code",
   "execution_count": null,
   "id": "266aaadd",
   "metadata": {},
   "outputs": [],
   "source": [
    "import shap\n",
    "import pandas as pd\n",
    "import keras\n",
    "from sklearn.preprocessing import *\n",
    "import numpy as np\n",
    "Minmaxsc  = MinMaxScaler(feature_range=(0, 1))\n",
    "Minmaxsc2  = MinMaxScaler(feature_range=(0, 1))\n",
    "Stdsc  = StandardScaler()\n",
    "Stdsc2  = StandardScaler()\n",
    "MAsc  = MaxAbsScaler()\n",
    "MAsc2  = MaxAbsScaler()\n",
    "Rsc  = RobustScaler()\n",
    "Rsc2  = RobustScaler()"
   ]
  },
  {
   "cell_type": "code",
   "execution_count": null,
   "id": "6183c9e8",
   "metadata": {},
   "outputs": [],
   "source": [
    "database=pd.read_csv('processed_database.csv')\n",
    "data_output_full=database.iloc[:,1]\n",
    "data_input_full=database.iloc[:,2:]\n",
    "data_input_full_ANN=Stdsc.fit_transform(data_input_full)\n",
    "data_output_full_ANN=Stdsc2.fit_transform(np.array(data_output_full).reshape(-1,1))"
   ]
  },
  {
   "cell_type": "code",
   "execution_count": null,
   "id": "eac4bc17",
   "metadata": {},
   "outputs": [],
   "source": [
    "data_input_full_ANN_for_shap=pd.DataFrame(data_input_full_ANN,columns=data_input_full.columns)"
   ]
  },
  {
   "cell_type": "code",
   "execution_count": null,
   "id": "a863ea20",
   "metadata": {},
   "outputs": [],
   "source": [
    "model_l=keras.models.load_model(\"./Neutral_HER/ANN_model_l.h5\")\n",
    "model_m=keras.models.load_model(\"./Neutral_HER/ANN_model_m.h5\")\n",
    "model_h=keras.models.load_model(\"./Neutral_HER/ANN_model_h.h5\")"
   ]
  },
  {
   "cell_type": "code",
   "execution_count": null,
   "id": "f3409aac",
   "metadata": {
    "scrolled": true
   },
   "outputs": [],
   "source": [
    "from keras.models import load_model\n",
    "from sklearn.base import BaseEstimator, RegressorMixin\n",
    "from sklearn.inspection import plot_partial_dependence\n",
    "from sklearn.utils.validation import check_is_fitted\n",
    "\n",
    "# Define a new class that inherits from sklearn's base estimator classes.\n",
    "class KerasPDPWrapper(BaseEstimator, RegressorMixin):\n",
    "    def __init__(self, model):\n",
    "        self.model = model\n",
    "        self.fitted_ = True  # Indicate that the model is already fitted\n",
    "    def fit(self, X, y=None):\n",
    "        # Do nothing, the model is already trained\n",
    "        return self\n",
    "    def predict(self, X, y=None):\n",
    "        return self.model.predict(X)\n",
    "\n",
    "# Create an instance of the wrapper with the Keras model.\n",
    "PDP_wrapped_model_l = KerasPDPWrapper(model_l)\n",
    "PDP_wrapped_model_m = KerasPDPWrapper(model_m)\n",
    "PDP_wrapped_model_h = KerasPDPWrapper(model_h)"
   ]
  },
  {
   "cell_type": "code",
   "execution_count": null,
   "id": "563c9656",
   "metadata": {},
   "outputs": [],
   "source": [
    "from sklearn.inspection import partial_dependence\n",
    "import matplotlib.pyplot as plt\n",
    "def pdp_average_plot_2d(features):\n",
    "\n",
    "\n",
    "    # Compute the partial dependence for each model\n",
    "    pdp_l, axes_l = partial_dependence(PDP_wrapped_model_l, data_input_full, features)\n",
    "    pdp_m, axes_m = partial_dependence(PDP_wrapped_model_m, data_input_full, features)\n",
    "    pdp_h, axes_h = partial_dependence(PDP_wrapped_model_h, data_input_full, features)\n",
    "\n",
    "    # Average the partial dependence results\n",
    "    average_pdp = (pdp_l + pdp_m + pdp_h) / 3\n",
    "\n",
    "    # Plot the averaged results\n",
    "    fig, ax = plt.subplots(figsize=(10, 8))\n",
    "    contour = ax.contourf(axes_l[0], axes_l[1], average_pdp[0].T, alpha=0.75)\n",
    "    ax.set_xlabel(features[0])\n",
    "    ax.set_ylabel(features[1])\n",
    "    fig.colorbar(contour)\n",
    "    plt.show()\n"
   ]
  },
  {
   "cell_type": "code",
   "execution_count": null,
   "id": "d5f9780f",
   "metadata": {},
   "outputs": [],
   "source": [
    "# compute SHAP values for each model\n",
    "explainer_l = shap.Explainer(model_l, data_input_full_ANN)\n",
    "shap_values_l = explainer_l(data_input_full_ANN_for_shap)\n",
    "\n",
    "explainer_m = shap.Explainer(model_m, data_input_full_ANN)\n",
    "shap_values_m = explainer_m(data_input_full_ANN_for_shap)\n",
    "\n",
    "explainer_h = shap.Explainer(model_h, data_input_full_ANN)\n",
    "shap_values_h = explainer_h(data_input_full_ANN_for_shap)\n",
    "\n",
    "# Extract the values from the 64th feature onwards\n",
    "sliced_values_l = shap_values_l.values[:, 64:]\n",
    "sliced_values_m = shap_values_m.values[:, 64:]\n",
    "sliced_values_h = shap_values_h.values[:, 64:]\n",
    "\n",
    "average_sliced_values_full = (shap_values_l+shap_values_m+shap_values_h)/3\n",
    "# Average the SHAP values\n",
    "average_sliced_values = (sliced_values_l + sliced_values_m + sliced_values_h) / 3\n",
    "\n",
    "# Create a new Explanation object with the averaged values\n",
    "average_shap_values = shap.Explanation(values=average_sliced_values, data=shap_values_l.data[:, 64:], feature_names=shap_values_l.feature_names[64:])\n",
    "\n",
    "# Calculate the absolute mean\n",
    "cohorts = average_shap_values.cohorts(2).abs.mean(0)\n",
    "\n",
    "shap.summary_plot(average_shap_values,feature_names=list(data_input_full.columns)[64:],max_display=13,alpha=0.5,plot_size=[6,6])\n",
    "\n",
    "shap.summary_plot(average_shap_values,feature_names=list(data_input_full.columns)[64:],max_display=100,alpha=0.5)"
   ]
  },
  {
   "cell_type": "code",
   "execution_count": null,
   "id": "18b023ab",
   "metadata": {},
   "outputs": [],
   "source": []
  }
 ],
 "metadata": {
  "kernelspec": {
   "display_name": "Python 3 (ipykernel)",
   "language": "python",
   "name": "python3"
  },
  "language_info": {
   "codemirror_mode": {
    "name": "ipython",
    "version": 3
   },
   "file_extension": ".py",
   "mimetype": "text/x-python",
   "name": "python",
   "nbconvert_exporter": "python",
   "pygments_lexer": "ipython3",
   "version": "3.9.12"
  }
 },
 "nbformat": 4,
 "nbformat_minor": 5
}
