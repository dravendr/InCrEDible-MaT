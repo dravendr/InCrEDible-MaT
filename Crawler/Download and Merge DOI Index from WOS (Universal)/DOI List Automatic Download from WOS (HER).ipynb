{
 "cells": [
  {
   "cell_type": "code",
   "execution_count": null,
   "id": "75c80522",
   "metadata": {},
   "outputs": [],
   "source": [
    "####import packages####\n",
    "import requests,time,random\n",
    "import pandas as pd \n",
    "import numpy as np\n",
    "import time\n",
    "import random\n",
    "import re\n",
    "import numpy as np\n",
    "import pandas as pd\n",
    "import re\n",
    "import copy\n",
    "import traceback\n",
    "import time\n",
    "from chemdataextractor import Document\n",
    "from chemdataextractor.model import Compound\n",
    "from chemdataextractor.doc import Paragraph, Heading\n",
    "from pymatgen.core.composition import Composition\n",
    "from selenium.webdriver.common.by import By\n",
    "from lxml import etree\n",
    "from urllib import parse\n",
    "from selenium import webdriver "
   ]
  },
  {
   "cell_type": "code",
   "execution_count": null,
   "id": "3fb7162c",
   "metadata": {},
   "outputs": [],
   "source": [
    "options = webdriver.chrome.options.Options()\n",
    "####start crawling###\n",
    "driver = webdriver.Chrome(options=options)\n",
    "i=1\n",
    "driver.maximize_window()"
   ]
  },
  {
   "cell_type": "code",
   "execution_count": null,
   "id": "262f6ead",
   "metadata": {},
   "outputs": [],
   "source": [
    "url_base='https://www.webofscience.com/wos/alldb/basic-search'\n",
    "try:\n",
    "    driver.get(url_base)\n",
    "except:\n",
    "    print('link to Webofscience failed')"
   ]
  },
  {
   "cell_type": "code",
   "execution_count": null,
   "id": "678cbcac",
   "metadata": {},
   "outputs": [],
   "source": [
    "####please enter the keyword by yourself###"
   ]
  },
  {
   "cell_type": "code",
   "execution_count": null,
   "id": "37e6341f",
   "metadata": {},
   "outputs": [],
   "source": [
    "try:\n",
    "    driver.find_element(By.XPATH,'//*[@id=\"snRecListTop\"]/app-export-menu/div/button/span[1]').click()\n",
    "except:\n",
    "    print('link to Webofscience failed')"
   ]
  },
  {
   "cell_type": "code",
   "execution_count": null,
   "id": "9e067b1e",
   "metadata": {},
   "outputs": [],
   "source": [
    "try:\n",
    "    driver.find_element(By.XPATH,'//*[@id=\"exportToExcelButton\"]').click()\n",
    "except:\n",
    "    print('link to Webofscience failed')"
   ]
  },
  {
   "cell_type": "code",
   "execution_count": null,
   "id": "205d97ca",
   "metadata": {},
   "outputs": [],
   "source": [
    "try:\n",
    "    driver.find_element(By.XPATH,'//*[@id=\"radio3\"]/label/span[1]').click()\n",
    "except:\n",
    "    print('link to Webofscience failed')"
   ]
  },
  {
   "cell_type": "code",
   "execution_count": null,
   "id": "1a2eebd5",
   "metadata": {},
   "outputs": [],
   "source": [
    "try:\n",
    "    driver.find_element(By.XPATH,'/html/body/app-wos/main/div/div/div[2]/div/div/div[2]/app-input-route[1]/app-export-overlay/div/div[3]/div[2]/app-export-out-details/div/div[2]/form/div/div[1]/wos-select/button').click()\n",
    "except:\n",
    "    print('link to Webofscience failed')"
   ]
  },
  {
   "cell_type": "code",
   "execution_count": null,
   "id": "f2bd4ec1",
   "metadata": {},
   "outputs": [],
   "source": [
    "try:\n",
    "    driver.find_element(By.XPATH,'//*[@id=\"global-select\"]/div/div[2]/div[3]/span').click()\n",
    "except:\n",
    "    print('link to Webofscience failed')"
   ]
  },
  {
   "cell_type": "code",
   "execution_count": null,
   "id": "3b786973",
   "metadata": {},
   "outputs": [],
   "source": [
    "try:\n",
    "    driver.find_element(By.XPATH,'/html/body/app-wos/main/div/div/div[2]/div/div/div[2]/app-input-route[1]/app-export-overlay/div/div[3]/div[2]/app-export-out-details/div/div[2]/form/div/div[2]/button[1]/span[1]/span').click()\n",
    "except:\n",
    "    print('link to Webofscience failed')\n",
    "####after this, delete the just downloaded 1~1000 savedrecs.xls####"
   ]
  },
  {
   "cell_type": "code",
   "execution_count": null,
   "id": "bf6db1d0",
   "metadata": {},
   "outputs": [],
   "source": [
    "####number depends on how many records in WOS###\n",
    "for i in range (0,65):\n",
    "    start=i*1000+1\n",
    "    end=start+999\n",
    "    print(start,end)\n",
    "    try:\n",
    "        driver.find_element(By.XPATH,'//*[@id=\"snRecListTop\"]/app-export-menu/div/button/span[1]').click()\n",
    "        time.sleep(random.uniform(0.5,1.5))\n",
    "    except:\n",
    "        print('1')\n",
    "    try:\n",
    "        driver.find_element(By.XPATH,'//*[@id=\"exportToExcelButton\"]').click()\n",
    "        time.sleep(random.uniform(0.5,1.5))\n",
    "    except:\n",
    "        print('2')\n",
    "    try:\n",
    "        driver.find_element(By.XPATH,'//*[@id=\"radio3\"]/label/span[1]').click()\n",
    "        time.sleep(random.uniform(0.5,1.5))\n",
    "    except:\n",
    "        print('3')\n",
    "    try:\n",
    "        driver.find_element(By.XPATH,'/html/body/app-wos/main/div/div/div[2]/div/div/div[2]/app-input-route[1]/app-export-overlay/div/div[3]/div[2]/app-export-out-details/div/div[2]/form/div/div[1]/wos-select/button').click()\n",
    "        time.sleep(random.uniform(0.5,1.5))\n",
    "    except:\n",
    "        print('4')\n",
    "    try:\n",
    "        driver.find_element(By.XPATH,'//*[@id=\"global-select\"]/div/div[2]/div[3]/span').click()\n",
    "        time.sleep(random.uniform(0.5,1.5))\n",
    "    except:\n",
    "        print('5')\n",
    "    try:\n",
    "        driver.find_element(By.XPATH,'/html/body/app-wos/main/div/div/div[2]/div/div/div[2]/app-input-route[1]/app-export-overlay/div/div[3]/div[2]/app-export-out-details/div/div[2]/form/div/fieldset/mat-radio-group/div[3]/mat-form-field[1]/div/div[1]/div[3]/input').clear()\n",
    "        driver.find_element(By.XPATH,'/html/body/app-wos/main/div/div/div[2]/div/div/div[2]/app-input-route[1]/app-export-overlay/div/div[3]/div[2]/app-export-out-details/div/div[2]/form/div/fieldset/mat-radio-group/div[3]/mat-form-field[1]/div/div[1]/div[3]/input').send_keys('%s' % start)\n",
    "        time.sleep(random.uniform(0.5,1.5))\n",
    "    except:\n",
    "        print('6')\n",
    "    try:\n",
    "        driver.find_element(By.XPATH,'/html/body/app-wos/main/div/div/div[2]/div/div/div[2]/app-input-route[1]/app-export-overlay/div/div[3]/div[2]/app-export-out-details/div/div[2]/form/div/fieldset/mat-radio-group/div[3]/mat-form-field[2]/div/div[1]/div[3]/input').clear()\n",
    "        driver.find_element(By.XPATH,'/html/body/app-wos/main/div/div/div[2]/div/div/div[2]/app-input-route[1]/app-export-overlay/div/div[3]/div[2]/app-export-out-details/div/div[2]/form/div/fieldset/mat-radio-group/div[3]/mat-form-field[2]/div/div[1]/div[3]/input').send_keys('%s' % end)\n",
    "        time.sleep(random.uniform(0.5,1.5))\n",
    "    except:\n",
    "        print('7')\n",
    "    try:\n",
    "        driver.find_element(By.XPATH,'/html/body/app-wos/main/div/div/div[2]/div/div/div[2]/app-input-route[1]/app-export-overlay/div/div[3]/div[2]/app-export-out-details/div/div[2]/form/div/div[2]/button[1]/span[1]/span').click()\n",
    "    except:\n",
    "        print('8')\n",
    "    time.sleep(random.uniform(45,65))"
   ]
  },
  {
   "cell_type": "code",
   "execution_count": null,
   "id": "941e3823",
   "metadata": {},
   "outputs": [],
   "source": []
  },
  {
   "cell_type": "code",
   "execution_count": null,
   "id": "2468c28d",
   "metadata": {},
   "outputs": [],
   "source": []
  }
 ],
 "metadata": {
  "kernelspec": {
   "display_name": "crawler",
   "language": "python",
   "name": "crawler"
  },
  "language_info": {
   "codemirror_mode": {
    "name": "ipython",
    "version": 3
   },
   "file_extension": ".py",
   "mimetype": "text/x-python",
   "name": "python",
   "nbconvert_exporter": "python",
   "pygments_lexer": "ipython3",
   "version": "3.7.2"
  }
 },
 "nbformat": 4,
 "nbformat_minor": 5
}
