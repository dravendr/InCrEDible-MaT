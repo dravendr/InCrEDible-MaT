{
 "cells": [
  {
   "cell_type": "code",
   "execution_count": null,
   "id": "559af016",
   "metadata": {},
   "outputs": [],
   "source": [
    "import xlrd\n",
    "import numpy as np\n",
    "import pandas as pd"
   ]
  },
  {
   "cell_type": "code",
   "execution_count": null,
   "id": "b6a2fd3d",
   "metadata": {},
   "outputs": [],
   "source": [
    "data = xlrd.open_workbook('savedrecs.xls')"
   ]
  },
  {
   "cell_type": "code",
   "execution_count": null,
   "id": "4274790c",
   "metadata": {},
   "outputs": [],
   "source": [
    "table = data.sheet_by_name(u'savedrecs')\n",
    "init_list=table.col_values(28)\n",
    "init_list.remove('DOI')"
   ]
  },
  {
   "cell_type": "code",
   "execution_count": null,
   "id": "02497f64",
   "metadata": {},
   "outputs": [],
   "source": [
    "###depending on how many xls files####\n",
    "for i in range(1,65):\n",
    "    file=('savedrecs (%d).xls'%i)\n",
    "    data = xlrd.open_workbook(file)\n",
    "    table = data.sheet_by_name(u'savedrecs')\n",
    "    current_list=table.col_values(28)\n",
    "    current_list.remove('DOI')\n",
    "    print(current_list[0])\n",
    "    init_list=init_list+current_list"
   ]
  },
  {
   "cell_type": "code",
   "execution_count": null,
   "id": "b85cb236",
   "metadata": {},
   "outputs": [],
   "source": [
    "set_list=set(init_list)"
   ]
  },
  {
   "cell_type": "code",
   "execution_count": null,
   "id": "591ba863",
   "metadata": {},
   "outputs": [],
   "source": [
    "c=init_list.count('')"
   ]
  },
  {
   "cell_type": "code",
   "execution_count": null,
   "id": "8479b80b",
   "metadata": {},
   "outputs": [],
   "source": [
    "from collections import Counter"
   ]
  },
  {
   "cell_type": "code",
   "execution_count": null,
   "id": "3a3dd045",
   "metadata": {},
   "outputs": [],
   "source": [
    "set_list=list(set(init_list))"
   ]
  },
  {
   "cell_type": "code",
   "execution_count": null,
   "id": "948a0868",
   "metadata": {},
   "outputs": [],
   "source": [
    "set_list.remove('')"
   ]
  },
  {
   "cell_type": "code",
   "execution_count": null,
   "id": "a3d75f3f",
   "metadata": {},
   "outputs": [],
   "source": [
    "array=np.array(set_list)\n",
    "np.savetxt('HER_list.csv',array, fmt =\"%s\")"
   ]
  },
  {
   "cell_type": "code",
   "execution_count": null,
   "id": "461bbaee",
   "metadata": {},
   "outputs": [],
   "source": []
  }
 ],
 "metadata": {
  "kernelspec": {
   "display_name": "crawler",
   "language": "python",
   "name": "crawler"
  },
  "language_info": {
   "codemirror_mode": {
    "name": "ipython",
    "version": 3
   },
   "file_extension": ".py",
   "mimetype": "text/x-python",
   "name": "python",
   "nbconvert_exporter": "python",
   "pygments_lexer": "ipython3",
   "version": "3.7.2"
  }
 },
 "nbformat": 4,
 "nbformat_minor": 5
}
